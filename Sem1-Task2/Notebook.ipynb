{
 "cells": [
  {
   "cell_type": "markdown",
   "id": "e6a06dbd",
   "metadata": {},
   "source": [
    "Домашняя работа по вычислительной математике, задание 2.\n",
    "\n",
    "Выполнил: Вязовцев Андрей Викторович, Б01-009\n",
    "\n",
    "Вариант: о)\n",
    "\n",
    "Результат (сначала запустить все ячейки ниже):"
   ]
  },
  {
   "cell_type": "code",
   "execution_count": 187,
   "id": "dd3bc1c8",
   "metadata": {},
   "outputs": [
    {
     "name": "stdout",
     "output_type": "stream",
     "text": [
      "Неувязка для аналитического решения:  6.957936963747176e-14\n",
      "Неувязка для итерационного решения:  8.689832925106965e-07\n",
      "Число обусловленности матрицы mu =  1.4991943334502214\n",
      "lambda_max =  11.999032564583974 \n",
      "lambda_min =  8.000967435416026\n",
      "\n",
      "\n",
      "\n",
      "\n",
      "Аналитическое решение:\n",
      " [0.08114061881585005, 0.16393716688650095, 0.24656644954998497, 0.329212627691554, 0.4118570992209515, 0.4945017431352375, 0.5771463696369266, 0.6597909978974621, 0.7424356259803365, 0.8250802540811565, 0.9077248821801637, 0.9903695102793542, 1.0730141383785259, 1.1556587664776996, 1.238303394576873, 1.3209480226760468, 1.4035926507752203, 1.4862372788743938, 1.5688819069735673, 1.6515265350727408, 1.7341711631719146, 1.8168157912710878, 1.8994604193702618, 1.982105047469435, 2.0647496755686086, 2.1473943036677827, 2.2300389317669556, 2.312683559866129, 2.395328187965303, 2.4779728160644763, 2.56061744416365, 2.6432620722628233, 2.725906700361997, 2.8085513284611707, 2.8911959565603444, 2.9738405846595177, 3.0564852127586914, 3.1391298408578643, 3.2217744689570385, 3.304419097056212, 3.3870637251553855, 3.4697083532545587, 3.552352981353733, 3.634997609452906, 3.71764223755208, 3.800286865651253, 3.8829314937504265, 3.9655761218496006, 4.048220749948775, 4.130865378047947, 4.213510006147121, 4.296154634246295, 4.378799262345468, 4.4614438904446425, 4.544088518543815, 4.626733146642988, 4.709377774742163, 4.7920224028413365, 4.874667030940509, 4.957311659039683, 5.039956287138857, 5.1226009152380305, 5.205245543337203, 5.287890171436377, 5.370534799535551, 5.453179427634724, 5.535824055733898, 5.618468683833071, 5.701113311932245, 5.783757940031419, 5.866402568130591, 5.949047196229765, 6.03169182432894, 6.1143364524281125, 6.196981080527285, 6.27962570862646, 6.362270336725634, 6.444914964824806, 6.527559592923981, 6.610204221023154, 6.692848849122326, 6.775493477221501, 6.858138105320674, 6.940782733419847, 7.0234273615190235, 7.106071989618186, 7.188716617717365, 7.271361245817503, 7.35400587390664, 7.436650502009723, 7.519295131063679, 7.601939749324435, 7.684584380290543, 7.767229954014146, 7.849864937559731, 7.932511420082675, 8.016092503058536, 8.089283585549643, 8.172799637823267, 9.182720036217674]\n",
      "\n",
      "Итерационное решение:\n",
      " [0.08114063 0.16393717 0.24656646 0.32921263 0.4118571  0.49450175\n",
      " 0.57714637 0.659791   0.74243563 0.82508026 0.90772489 0.99036952\n",
      " 1.07301414 1.15565877 1.2383034  1.32094803 1.40359266 1.48623729\n",
      " 1.56888191 1.65152654 1.73417117 1.8168158  1.89946043 1.98210505\n",
      " 2.06474968 2.14739431 2.23003894 2.31268357 2.3953282  2.47797282\n",
      " 2.56061745 2.64326208 2.72590671 2.80855134 2.89119596 2.97384059\n",
      " 3.05648522 3.13912985 3.22177448 3.30441911 3.38706373 3.46970836\n",
      " 3.55235299 3.63499762 3.71764225 3.80028688 3.8829315  3.96557613\n",
      " 4.04822076 4.13086539 4.21351002 4.29615464 4.37879927 4.4614439\n",
      " 4.54408853 4.62673316 4.70937779 4.79202241 4.87466704 4.95731167\n",
      " 5.0399563  5.12260093 5.20524556 5.28789018 5.37053481 5.45317944\n",
      " 5.53582407 5.61846869 5.70111332 5.78375795 5.86640257 5.9490472\n",
      " 6.03169183 6.11433645 6.19698108 6.27962571 6.36227034 6.44491496\n",
      " 6.52755959 6.61020422 6.69284885 6.77549348 6.85813811 6.94078273\n",
      " 7.02342736 7.10607199 7.18871662 7.27136125 7.35400587 7.4366505\n",
      " 7.51929513 7.60193975 7.68458438 7.76722995 7.84986494 7.93251142\n",
      " 8.0160925  8.08928359 8.17279964 9.18272004]\n"
     ]
    }
   ],
   "source": [
    "analit_solve = []\n",
    "iter_solve = SolveRelax (my_A, my_f)\n",
    "\n",
    "if (can_use_LU):\n",
    "    analit_solve = SolveLU (my_A, my_f)\n",
    "else:\n",
    "    analit_solve = SolveGauss (my_A, my_f)\n",
    "\n",
    "print (\"Неувязка для аналитического решения: \", GetHitch (my_A, my_f, analit_solve))\n",
    "print (\"Неувязка для итерационного решения: \",  GetHitch (my_A, my_f, iter_solve))\n",
    "print (\"Число обусловленности матрицы mu = \", GetMu (my_A))\n",
    "print (\"lambda_max = \", GetLambdaMax (my_A), \n",
    "     \"\\nlambda_min = \", GetLambdaMin (my_A))\n",
    "\n",
    "print (\"\\n\\n\\n\")\n",
    "print (\"Аналитическое решение:\\n\", analit_solve)\n",
    "print (\"\\nИтерационное решение:\\n\", iter_solve)"
   ]
  },
  {
   "cell_type": "markdown",
   "id": "eb0e7938",
   "metadata": {},
   "source": [
    "Необходимые библиотеки:"
   ]
  },
  {
   "cell_type": "code",
   "execution_count": 7,
   "id": "6b289ffb",
   "metadata": {},
   "outputs": [],
   "source": [
    "import numpy as np\n",
    "from copy import deepcopy"
   ]
  },
  {
   "cell_type": "markdown",
   "id": "c36d989d",
   "metadata": {},
   "source": [
    "Условие уравнения (матрица и свободные коэффициенты)"
   ]
  },
  {
   "cell_type": "code",
   "execution_count": 173,
   "id": "4ec86016",
   "metadata": {},
   "outputs": [],
   "source": [
    "n = 100\n",
    "a = 10.\n",
    "b = 10.\n",
    "\n",
    "def aij_ctor (x, y):\n",
    "    if (x == y):\n",
    "        return a;\n",
    "    if (abs (y - x) == 1):\n",
    "        return 1\n",
    "    if (x - y == 2):\n",
    "        return 1. / b\n",
    "    return 0.\n",
    "\n",
    "my_A = np.array ([[aij_ctor (x, y) for x in range (n)] for y in range (n)])\n",
    "my_f = np.array ([i + 1 for i in range (n)])\n",
    "\n",
    "# print (*A, sep = '\\n')\n",
    "# print (f)"
   ]
  },
  {
   "cell_type": "markdown",
   "id": "18d29876",
   "metadata": {},
   "source": [
    "Проверим, что все главные миноры больше 0, т.е. метод LU-разложения применим:"
   ]
  },
  {
   "cell_type": "code",
   "execution_count": 174,
   "id": "a6669853",
   "metadata": {},
   "outputs": [
    {
     "name": "stdout",
     "output_type": "stream",
     "text": [
      "Делай LU!\n"
     ]
    }
   ],
   "source": [
    "can_use_LU = True\n",
    "\n",
    "for i in range (n):\n",
    "    if (np.linalg.det ([A_j[0:(i+1)] for A_j in my_A[0:(i+1)]]) == 0):\n",
    "        can_use_LU = False\n",
    "        \n",
    "if (can_use_LU):\n",
    "    print (\"Делай LU!\") # мой случай\n",
    "else:\n",
    "    print (\"LU-разложение невозможно\")"
   ]
  },
  {
   "cell_type": "markdown",
   "id": "7e7e0d17",
   "metadata": {},
   "source": [
    "Считаем неувязку, число обусловленности $\\mu$, $\\lambda_{min}$, $\\lambda_{max}$:"
   ]
  },
  {
   "cell_type": "code",
   "execution_count": 175,
   "id": "82f032db",
   "metadata": {},
   "outputs": [],
   "source": [
    "def Norm3Vec (x):\n",
    "    return np.sqrt (np.sum (x * x))\n",
    "\n",
    "def Norm3Matr (matr):\n",
    "    w, v = np.linalg.eigh (matr)\n",
    "    return np.max (np.abs (w))\n",
    "\n",
    "def GetHitch (A, f, x):\n",
    "    return Norm3Vec (np.matmul (A, x) - f)\n",
    "\n",
    "def GetMu (A):\n",
    "    return Norm3Matr (A) * Norm3Matr (np.linalg.inv (A))\n",
    "\n",
    "def GetLambdaMax (matr):\n",
    "    w, v = np.linalg.eigh (matr)\n",
    "    return np.max (w)\n",
    "\n",
    "def GetLambdaMin (matr):\n",
    "    w, v = np.linalg.eigh (matr)\n",
    "    return np.min (w)"
   ]
  },
  {
   "cell_type": "markdown",
   "id": "40bfd650",
   "metadata": {},
   "source": [
    "Методы решения:"
   ]
  },
  {
   "cell_type": "code",
   "execution_count": 176,
   "id": "d6ada402",
   "metadata": {},
   "outputs": [],
   "source": [
    "def SolveLU (A_const, f_const):\n",
    "    lenA = len (A_const)\n",
    "    A = deepcopy (A_const)\n",
    "    f = deepcopy (f_const)\n",
    "    \n",
    "    L = [[0 for j in range (lenA)] for i in range (lenA)]\n",
    "    U = deepcopy (L)\n",
    "    for i in range (lenA):\n",
    "        L[i][i] = 1\n",
    "    \n",
    "    get_Uij = lambda i, j:  A[i][j] - sum ([L[i][k] * U[k][j] for k in range (i)])\n",
    "    get_Lij = lambda i, j: (A[i][j] - sum ([L[i][k] * U[k][j] for k in range (j)])) / U[j][j]\n",
    "    \n",
    "    for i in range (lenA):\n",
    "        for j in range (i):\n",
    "            L[i][j] = get_Lij (i, j)\n",
    "        \n",
    "        for j in range (i, lenA):\n",
    "            U[i][j] = get_Uij (i, j)\n",
    "            \n",
    "    # solve LY = f   \n",
    "    y = ReverseStrokeL (L, f)\n",
    "    # solve Ux = y\n",
    "    return ReverseStrokeU (U, y)"
   ]
  },
  {
   "cell_type": "code",
   "execution_count": 178,
   "id": "11d2a5d4",
   "metadata": {},
   "outputs": [],
   "source": [
    "def SolveGauss (A_const, f_const):\n",
    "    lenA = len (A_const)\n",
    "    A = deepcopy (A_const)\n",
    "    f = deepcopy (f_const)\n",
    "    \n",
    "    for i in range (lenA - 1):\n",
    "        max_elem_ind = FindMaxElemInd (A, i)\n",
    "        if (max_elem_ind != i):\n",
    "            A[i], A[max_elem_ind] = deepcopy (A[max_elem_ind]), deepcopy (A[i])\n",
    "\n",
    "        for j in range (i + 1, lenA):\n",
    "            coef = A[j][i] / A[i][i]\n",
    "            A[j] -= A[i] * coef\n",
    "            f[j] -= f[i] * coef\n",
    "\n",
    "    return ReverseStrokeU (A, f)\n",
    "        \n",
    "        \n",
    "def FindMaxElemInd (A, i_row):\n",
    "    max_elem_ind = i_row\n",
    "    for j in range (i_row + 1, len (A)):\n",
    "        if (abs (A[j][i_row]) > abs (A[max_elem_ind][i_row])):\n",
    "            max_elem_ind = j\n",
    "    return max_elem_ind"
   ]
  },
  {
   "cell_type": "code",
   "execution_count": 179,
   "id": "8aaaa124",
   "metadata": {},
   "outputs": [],
   "source": [
    "# a11 a12 a13   x1   f1\n",
    "#  0  a22 a23 X x2 = f2\n",
    "#  0   0  a33   x3   f3\n",
    "def ReverseStrokeU (U, f):\n",
    "    lenU = len (U)\n",
    "    x = [0. for i in range (lenU)]\n",
    "    \n",
    "    for i in range (lenU - 1, -1, -1):\n",
    "        x_i = 0.\n",
    "        \n",
    "        for j in range (i + 1, lenU):\n",
    "            x_i += U[i][j] * x[j]\n",
    "        x[i] = (f[i] - x_i) / U[i][i]\n",
    "    \n",
    "    return x\n",
    "\n",
    "# a11  0   0    x1   f1\n",
    "# a21 a22  0  X x2 = f2\n",
    "# a31 a32 a33   x3   f3\n",
    "def ReverseStrokeL (L, f):\n",
    "    x = ReverseStrokeU (np.flip (L, (0, 1)), np.flip (f))\n",
    "    return np.flip (x)"
   ]
  },
  {
   "cell_type": "code",
   "execution_count": 184,
   "id": "3b429bbb",
   "metadata": {},
   "outputs": [],
   "source": [
    "def SolveRelax (A, f):\n",
    "    lenA = len (A)\n",
    "    w    = 1.726\n",
    "    x_0  = np.linspace (0, 2, lenA) # random\n",
    "    EPS  = 1e-6\n",
    "    \n",
    "    L = np.array ([[0. for j in range (lenA)] for i in range (lenA)])\n",
    "    D = deepcopy (L)\n",
    "    U = deepcopy (L)\n",
    "    \n",
    "    for i in range (lenA):\n",
    "        for j in range (lenA):\n",
    "            if (j > i):\n",
    "                U[i][j] = A[i][j]\n",
    "            elif (j < i):\n",
    "                L[i][j] = A[i][j]\n",
    "            elif (j == i):\n",
    "                D[i][j] = A[i][j]\n",
    "    \n",
    "    for i in range (lenA):\n",
    "        for j in range (lenA):\n",
    "            test = np.abs (U[i][j] + L[i][j] + D[i][j] - A[i][j])\n",
    "            if (test != 0):\n",
    "                print (i, j, U[i][j], L[i][j], D[i][j], A[i][j])\n",
    "                \n",
    "    D_wL_pow_m1 = np.linalg.inv (D + w * L)\n",
    "    wm1_D_wU    = (w - 1) * D + w * U\n",
    "    \n",
    "    coef_before_x = -np.matmul (D_wL_pow_m1, wm1_D_wU)\n",
    "    coef_free     = w * np.matmul (D_wL_pow_m1, f)\n",
    "    \n",
    "    do_iter = lambda x: np.matmul (coef_before_x, x) + coef_free\n",
    "\n",
    "    x = x_0\n",
    "    while (np.abs (GetHitch (A, f, x)) > EPS):\n",
    "        x = do_iter (x)\n",
    "        \n",
    "    return x"
   ]
  }
 ],
 "metadata": {
  "kernelspec": {
   "display_name": "Python 3 (ipykernel)",
   "language": "python",
   "name": "python3"
  },
  "language_info": {
   "codemirror_mode": {
    "name": "ipython",
    "version": 3
   },
   "file_extension": ".py",
   "mimetype": "text/x-python",
   "name": "python",
   "nbconvert_exporter": "python",
   "pygments_lexer": "ipython3",
   "version": "3.10.6"
  }
 },
 "nbformat": 4,
 "nbformat_minor": 5
}
