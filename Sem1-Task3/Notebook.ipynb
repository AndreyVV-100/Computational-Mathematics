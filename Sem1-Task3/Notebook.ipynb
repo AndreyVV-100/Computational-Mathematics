{
 "cells": [
  {
   "cell_type": "markdown",
   "id": "425e9846",
   "metadata": {},
   "source": [
    "Домашняя работа по вычислительной математике, задание 3.\n",
    "\n",
    "Выполнил: Вязовцев Андрей Викторович, Б01-009\n",
    "\n",
    "Вариант: б)\n",
    "\n",
    "Результат (сначала запустить все ячейки ниже):"
   ]
  },
  {
   "cell_type": "markdown",
   "id": "dcdcfa15",
   "metadata": {},
   "source": [
    "## Задание 1\n",
    "\n",
    "Вычислить с точностью $\\varepsilon = 10^{-3}$ пересечение кривых с помощью МПИ (вариант и):\n",
    "\n",
    "$x^2 - \\frac{e^x}{5} = 0$\n",
    "\n",
    "Метод: $x_{n+1} = \\sqrt {\\frac{e^x_n}{5}}$\n",
    "\n",
    "Сходимость на отрезке локализации $x \\in [0; 1]$:\n",
    "\n",
    "$\\phi (x) = \\sqrt {\\frac{e^x}{5}}$\n",
    "\n",
    "$\\phi' (x) = 0.5 \\cdot \\sqrt {\\frac{e^x}{5}}$\n",
    "\n",
    "$\\phi'(x) \\leqslant 0.369 \\leqslant 1$\n",
    "\n",
    "Значит, метод сходится и его можно использовать."
   ]
  },
  {
   "cell_type": "code",
   "execution_count": 19,
   "id": "b6754401",
   "metadata": {},
   "outputs": [
    {
     "name": "stdout",
     "output_type": "stream",
     "text": [
      "Root of equation in [0; 1]: x =  0.6040125432605068\n",
      "Diff =  0.0010578113953527701\n"
     ]
    }
   ],
   "source": [
    "PrintInfoTask1()"
   ]
  },
  {
   "cell_type": "code",
   "execution_count": 12,
   "id": "2a9b8ecf",
   "metadata": {},
   "outputs": [],
   "source": [
    "import numpy as np"
   ]
  },
  {
   "cell_type": "code",
   "execution_count": 13,
   "id": "86b60409",
   "metadata": {},
   "outputs": [],
   "source": [
    "def GetDiff (x, f):\n",
    "    return np.sqrt (np.sum (np.power (f(x), 2)))\n",
    "\n",
    "def PrintInfoTask1():\n",
    "    x = GetRootMSI()\n",
    "    diff = GetDiff (x, f)\n",
    "    print (\"Root of equation in [0; 1]: x = \", x)\n",
    "    print (\"Diff = \", diff)"
   ]
  },
  {
   "cell_type": "code",
   "execution_count": 18,
   "id": "df9228f2",
   "metadata": {},
   "outputs": [],
   "source": [
    "EPS = 1e-3\n",
    "\n",
    "f   = lambda x: np.power (x, 2) - np.exp (x) / 5\n",
    "x_n = lambda x: np.sqrt (np.exp (x) / 5)\n",
    "x_0 = 0\n",
    "\n",
    "def GetRootMSI (eps = EPS):\n",
    "    x = x_0\n",
    "    while np.abs (x - x_n(x)) > eps:\n",
    "        x = x_n(x)\n",
    "    return x"
   ]
  },
  {
   "cell_type": "markdown",
   "id": "2d9121b4",
   "metadata": {},
   "source": [
    "## Задание 2\n",
    "\n",
    "Вычислить с точностью $\\varepsilon = 10^{-3}$ пересечение кривых с помощью метода Ньютона (вариант б):\n",
    "\n",
    "$\\tan (xy + 0.4) = x^2$\n",
    "\n",
    "$0.6x^2 + 2y^2 = 1$\n",
    "\n",
    "Область локализации: $x \\in [0.5, 1.5]$, $y \\in [0, 1]$"
   ]
  },
  {
   "cell_type": "code",
   "execution_count": 37,
   "id": "9c8477fa",
   "metadata": {},
   "outputs": [
    {
     "name": "stdout",
     "output_type": "stream",
     "text": [
      "Root of equation in [0.5; 1.5]: x =  1.0484017459854609 , y =  0.41262188019024837\n",
      "Diff =  3.133572736399695e-06\n"
     ]
    }
   ],
   "source": [
    "PrintInfoTask2()"
   ]
  },
  {
   "cell_type": "code",
   "execution_count": 2,
   "id": "94b0dc5f",
   "metadata": {},
   "outputs": [],
   "source": [
    "import numpy as np"
   ]
  },
  {
   "cell_type": "code",
   "execution_count": 36,
   "id": "d00ca606",
   "metadata": {},
   "outputs": [],
   "source": [
    "f1 = lambda X: np.tan (X[0] * X[1] + 0.4) - np.power (X[0], 2)\n",
    "f2 = lambda X: 0.6 * np.power (X[0], 2) + 2 * np.power (X[1], 2) - 1\n",
    "f  = lambda X: np.array ([f1(X), f2(X)])\n",
    "\n",
    "J_00 = lambda X: X[1] / np.power (np.cos (X[0] * X[1] + 0.4), 2) - 2 * X[0]\n",
    "J_01 = lambda X: X[0] / np.power (np.cos (X[0] * X[1] + 0.4), 2)\n",
    "J_10 = lambda X: 1.2 * X[0]\n",
    "J_11 = lambda X: 4 * X[1]\n",
    "\n",
    "J = lambda X: np.array ([[J_00(X), J_01(X)], [J_10(X), J_11(X)]])\n",
    "\n",
    "X_0 = [0.5, 0.5]\n",
    "\n",
    "def GetRootNewton (eps = EPS):\n",
    "    X = X_0\n",
    "    while (GetDiff (X, f) > eps):\n",
    "        X -= np.matmul(np.linalg.inv(J(X)), f(X))\n",
    "    return X "
   ]
  },
  {
   "cell_type": "code",
   "execution_count": 28,
   "id": "2d83073d",
   "metadata": {},
   "outputs": [],
   "source": [
    "def PrintInfoTask2():\n",
    "    X = GetRootNewton()\n",
    "    diff = GetDiff (X, f)\n",
    "    print (\"Root of equation in [0.5; 1.5]: x = \", X[0], \", y = \", X[1])\n",
    "    print (\"Diff = \", diff)"
   ]
  }
 ],
 "metadata": {
  "kernelspec": {
   "display_name": "Python 3 (ipykernel)",
   "language": "python",
   "name": "python3"
  },
  "language_info": {
   "codemirror_mode": {
    "name": "ipython",
    "version": 3
   },
   "file_extension": ".py",
   "mimetype": "text/x-python",
   "name": "python",
   "nbconvert_exporter": "python",
   "pygments_lexer": "ipython3",
   "version": "3.10.6"
  }
 },
 "nbformat": 4,
 "nbformat_minor": 5
}
