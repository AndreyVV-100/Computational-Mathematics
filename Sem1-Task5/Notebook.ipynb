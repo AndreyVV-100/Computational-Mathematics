{
 "cells": [
  {
   "cell_type": "markdown",
   "id": "9809a7a1",
   "metadata": {},
   "source": [
    "Домашняя работа по вычислительной математике, задание 5.\n",
    "\n",
    "Выполнил: Вязовцев Андрей Викторович, Б01-009\n",
    "\n",
    "Вариант: д)\n",
    "\n",
    "Результат (сначала запустить все ячейки ниже):"
   ]
  },
  {
   "cell_type": "code",
   "execution_count": 10,
   "id": "5fd88c0f",
   "metadata": {},
   "outputs": [
    {
     "name": "stdout",
     "output_type": "stream",
     "text": [
      "I_h =  0.371127375 ; eps =  5.291066219909619 %\n",
      "I_R =  0.38345825 ; eps =  2.1443190314933136 %\n",
      "I_S =  0.38345824999999994 ; eps =  2.144319031493328 %\n"
     ]
    }
   ],
   "source": [
    "PrintResult (x, f)"
   ]
  },
  {
   "cell_type": "code",
   "execution_count": 1,
   "id": "c91a76f2",
   "metadata": {},
   "outputs": [],
   "source": [
    "import numpy as np"
   ]
  },
  {
   "cell_type": "code",
   "execution_count": 3,
   "id": "89c195a0",
   "metadata": {},
   "outputs": [],
   "source": [
    "x = np.linspace (0, 1, 9)\n",
    "f = np.array ([0, 0.124670, 0.247234, 0.364902, 0.473112, 0.563209, 0.616193, 0.579699, 0])"
   ]
  },
  {
   "cell_type": "code",
   "execution_count": 9,
   "id": "dcc2fe7f",
   "metadata": {},
   "outputs": [],
   "source": [
    "def GetTrapezoidInt (x, f, stepping = 1):\n",
    "    h = x[1] - x[0]\n",
    "    if stepping == 1:\n",
    "        return h / 2 * (2 * np.sum (f) - f[0] - f[-1])\n",
    "    else:\n",
    "        return stepping * h / 2 * (2 * np.sum ([f[i] for i in range (0, len(f), stepping)]) - f[0] - f[(len(f) - 1) // stepping * stepping])\n",
    "\n",
    "def GetRichardsonInt (x, f):\n",
    "    h = x[1] - x[0]\n",
    "    p = 2\n",
    "    r = 2\n",
    "    I_h  = GetTrapezoidInt (x, f)\n",
    "    I_2h = GetTrapezoidInt (x, f, 2)\n",
    "    \n",
    "    return I_h + (I_h - I_2h) / (np.power (r, p) - 1)\n",
    "    \n",
    "def GetSimpsonInt (x, f):\n",
    "    h = x[1] - x[0]\n",
    "    \n",
    "    coef_2 = 2 * np.sum ([f[i] for i in range (2, len(f) - 1, 2)])\n",
    "    coef_4 = 4 * np.sum ([f[i] for i in range (1, len(f) - 1, 2)])\n",
    "    \n",
    "    return h / 3 * (f[0] + f[-1] + coef_2 + coef_4)"
   ]
  },
  {
   "cell_type": "code",
   "execution_count": 7,
   "id": "cd596632",
   "metadata": {},
   "outputs": [],
   "source": [
    "wolfram_I = 0.391861\n",
    "\n",
    "def PrintResult (x, f):\n",
    "    I_h = GetTrapezoidInt (x, f)\n",
    "    I_R = GetRichardsonInt (x, f)\n",
    "    I_S = GetSimpsonInt (x, f)\n",
    "    \n",
    "    print (\"I_h = \", I_h, \"; eps = \", np.abs (I_h - wolfram_I) / wolfram_I * 100, \"%\")\n",
    "    print (\"I_R = \", I_R, \"; eps = \", np.abs (I_R - wolfram_I) / wolfram_I * 100, \"%\")\n",
    "    print (\"I_S = \", I_S, \"; eps = \", np.abs (I_S - wolfram_I) / wolfram_I * 100, \"%\")"
   ]
  }
 ],
 "metadata": {
  "kernelspec": {
   "display_name": "Python 3 (ipykernel)",
   "language": "python",
   "name": "python3"
  },
  "language_info": {
   "codemirror_mode": {
    "name": "ipython",
    "version": 3
   },
   "file_extension": ".py",
   "mimetype": "text/x-python",
   "name": "python",
   "nbconvert_exporter": "python",
   "pygments_lexer": "ipython3",
   "version": "3.10.6"
  }
 },
 "nbformat": 4,
 "nbformat_minor": 5
}
